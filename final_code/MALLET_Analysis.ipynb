{
 "cells": [
  {
   "cell_type": "markdown",
   "metadata": {},
   "source": [
    "# MALLET Analysis on Song Lyric Corpus"
   ]
  },
  {
   "cell_type": "code",
   "execution_count": 2,
   "metadata": {},
   "outputs": [],
   "source": [
    "# Import libraries and set directory\n",
    "import pandas as pd\n",
    "import numpy as np\n",
    "import os\n",
    "os.chdir('/Users/nickbruno/Documents/spring_2019/DS5559/project/code')"
   ]
  },
  {
   "cell_type": "code",
   "execution_count": 3,
   "metadata": {},
   "outputs": [],
   "source": [
    "# Import data\n",
    "df = pd.read_csv('mallet_start_df.csv')"
   ]
  },
  {
   "cell_type": "code",
   "execution_count": 4,
   "metadata": {},
   "outputs": [
    {
     "data": {
      "text/html": [
       "<div>\n",
       "<style scoped>\n",
       "    .dataframe tbody tr th:only-of-type {\n",
       "        vertical-align: middle;\n",
       "    }\n",
       "\n",
       "    .dataframe tbody tr th {\n",
       "        vertical-align: top;\n",
       "    }\n",
       "\n",
       "    .dataframe thead th {\n",
       "        text-align: right;\n",
       "    }\n",
       "</style>\n",
       "<table border=\"1\" class=\"dataframe\">\n",
       "  <thead>\n",
       "    <tr style=\"text-align: right;\">\n",
       "      <th></th>\n",
       "      <th>Unnamed: 0</th>\n",
       "      <th>artist</th>\n",
       "      <th>song</th>\n",
       "      <th>text</th>\n",
       "      <th>artist_id</th>\n",
       "      <th>song_id</th>\n",
       "    </tr>\n",
       "  </thead>\n",
       "  <tbody>\n",
       "    <tr>\n",
       "      <th>0</th>\n",
       "      <td>0</td>\n",
       "      <td>ABBA</td>\n",
       "      <td>Ahe's My Kind Of Girl</td>\n",
       "      <td>Look at her face, it's a wonderful face  \\nAnd...</td>\n",
       "      <td>0</td>\n",
       "      <td>0</td>\n",
       "    </tr>\n",
       "    <tr>\n",
       "      <th>1</th>\n",
       "      <td>1</td>\n",
       "      <td>ABBA</td>\n",
       "      <td>Andante, Andante</td>\n",
       "      <td>Take it easy with me, please  \\nTouch me gentl...</td>\n",
       "      <td>0</td>\n",
       "      <td>1</td>\n",
       "    </tr>\n",
       "    <tr>\n",
       "      <th>2</th>\n",
       "      <td>2</td>\n",
       "      <td>ABBA</td>\n",
       "      <td>As Good As New</td>\n",
       "      <td>I'll never know why I had to go  \\nWhy I had t...</td>\n",
       "      <td>0</td>\n",
       "      <td>2</td>\n",
       "    </tr>\n",
       "    <tr>\n",
       "      <th>3</th>\n",
       "      <td>3</td>\n",
       "      <td>ABBA</td>\n",
       "      <td>Bang-A-Boomerang</td>\n",
       "      <td>Making somebody happy is a question of give an...</td>\n",
       "      <td>0</td>\n",
       "      <td>3</td>\n",
       "    </tr>\n",
       "    <tr>\n",
       "      <th>4</th>\n",
       "      <td>4</td>\n",
       "      <td>ABBA</td>\n",
       "      <td>Burning My Bridges</td>\n",
       "      <td>Well, you hoot and you holler and you make me ...</td>\n",
       "      <td>0</td>\n",
       "      <td>4</td>\n",
       "    </tr>\n",
       "  </tbody>\n",
       "</table>\n",
       "</div>"
      ],
      "text/plain": [
       "   Unnamed: 0 artist                   song  \\\n",
       "0           0   ABBA  Ahe's My Kind Of Girl   \n",
       "1           1   ABBA       Andante, Andante   \n",
       "2           2   ABBA         As Good As New   \n",
       "3           3   ABBA       Bang-A-Boomerang   \n",
       "4           4   ABBA     Burning My Bridges   \n",
       "\n",
       "                                                text  artist_id  song_id  \n",
       "0  Look at her face, it's a wonderful face  \\nAnd...          0        0  \n",
       "1  Take it easy with me, please  \\nTouch me gentl...          0        1  \n",
       "2  I'll never know why I had to go  \\nWhy I had t...          0        2  \n",
       "3  Making somebody happy is a question of give an...          0        3  \n",
       "4  Well, you hoot and you holler and you make me ...          0        4  "
      ]
     },
     "execution_count": 4,
     "metadata": {},
     "output_type": "execute_result"
    }
   ],
   "source": [
    "df.head()"
   ]
  },
  {
   "cell_type": "code",
   "execution_count": 5,
   "metadata": {},
   "outputs": [],
   "source": [
    "# Create an artist-song label #\n",
    "df['doc_label'] = df.apply(lambda x: \"{}-{}\".format(x.artist, x.song), 1)"
   ]
  },
  {
   "cell_type": "code",
   "execution_count": 6,
   "metadata": {},
   "outputs": [],
   "source": [
    "# Get rid of extraneous columns #\n",
    "df = df[['doc_label','text']]"
   ]
  },
  {
   "cell_type": "code",
   "execution_count": 7,
   "metadata": {},
   "outputs": [],
   "source": [
    "# Format the text to get rid of verse and line splits #\n",
    "df.text = df.text.str.replace('  \\n', ' ')\n",
    "df.text = df.text.str.replace('\\n\\n', '')\n",
    "# These splits are important in later analysis, but not for the MALLET analysis"
   ]
  },
  {
   "cell_type": "code",
   "execution_count": 16,
   "metadata": {},
   "outputs": [
    {
     "data": {
      "text/plain": [
       "\"Look at her face, it's a wonderful face And it means something special to me Look at the way that she smiles when she sees me How lucky can one fellow be?  She's just my kind of girl, she makes me feel fine Who could ever believe that she could be mine? She's just my kind of girl, without her I'm blue And if she ever leaves me what could I do, what could I do?  And when we go for a walk in the park And she holds me and squeezes my hand We'll go on walking for hours and talking About all the things that we plan  She's just my kind of girl, she makes me feel fine Who could ever believe that she could be mine? She's just my kind of girl, without her I'm blue And if she ever leaves me what could I do, what could I do?\""
      ]
     },
     "execution_count": 16,
     "metadata": {},
     "output_type": "execute_result"
    }
   ],
   "source": [
    "df.text.iloc[0] # looks good"
   ]
  },
  {
   "cell_type": "code",
   "execution_count": 17,
   "metadata": {},
   "outputs": [],
   "source": [
    "# Write out dataframe to run the mallet in the terminal #\n",
    "df.to_csv('project-mallet.csv')\n",
    "    # save project-mallet.csv in the mallet bin in order to run commands in terminal"
   ]
  },
  {
   "cell_type": "markdown",
   "metadata": {},
   "source": [
    "### First mallet with each song in the corpus with num_topics = 5 and 1000 iterations"
   ]
  },
  {
   "cell_type": "markdown",
   "metadata": {},
   "source": [
    "#### The following code was run in the terminal of my MAC machine"
   ]
  },
  {
   "cell_type": "code",
   "execution_count": null,
   "metadata": {},
   "outputs": [],
   "source": [
    "# Importing data to run the MALLET operation\n",
    "import-file --input project-mallet.csv --output project-mallet.mallet --keep-sequence TRUE --remove-stopwords\n",
    "    # the '--remove-stopwords' is extremely helpful, as it removes stopwords without having to create a bag of words\n",
    "    # of the entire corpus and this improves our results."
   ]
  },
  {
   "cell_type": "code",
   "execution_count": null,
   "metadata": {},
   "outputs": [],
   "source": [
    "# Train the topics and produce other important MALLET files\n",
    "train-topics --input project-mallet.mallet --num-topics 5 --num-iterations 1000 \\\n",
    "--output-doc-topics project-mallet-doc-topics.txt \\\n",
    "--output-topic-keys project-mallet-topic-keys.txt \\\n",
    "--word-topic-counts-file project-mallet-word-topic-counts-file.txt \\\n",
    "--topic-word-weights-file project-mallet-topic-word-weights-file.txt \\\n",
    "--xml-topic-report project-mallet-topic-report.xml \\\n",
    "--xml-topic-phrase-report project-mallet-topic-phrase-report.xml \\\n",
    "--show-topics-interval 10 \\\n",
    "--use-symmetric-alpha false  \\\n",
    "--optimize-interval 100 \\\n",
    "--diagnostics-file project-mallet-diagnostics.xml"
   ]
  },
  {
   "cell_type": "markdown",
   "metadata": {},
   "source": [
    "### Results"
   ]
  },
  {
   "cell_type": "markdown",
   "metadata": {},
   "source": [
    "0\t1.085\ti'm love don't it's you're baby can't time make yeah i'll gonna i've feel heart back give won't life that's \n",
    "\n",
    "1\t0.45024\tman she's he's home back big town good it's boy ain't i'm christmas day night gonna girl round city boys \n",
    "\n",
    "2\t0.17176\ti'm yeah ain't don't rock shit fuck nigga money hey wanna back it's make bitch dance gotta chorus niggas man \n",
    "\n",
    "3\t0.66453\tlife world eyes day love light night time sun heart god sky hear there's lord dream it's rain soul sing \n",
    "\n",
    "4\t0.24917\tdead die blood hell death war man kill people fight we're hate black head it's burn power they're men god "
   ]
  },
  {
   "cell_type": "markdown",
   "metadata": {},
   "source": [
    "### Analysis"
   ]
  },
  {
   "cell_type": "markdown",
   "metadata": {},
   "source": [
    "Topic 1: Love, baby, heartbreak, and life\n",
    "\n",
    "Love is a major theme in most songs, so this topic is not surprising."
   ]
  },
  {
   "cell_type": "markdown",
   "metadata": {},
   "source": [
    "Topic 2: Home, town, boy, girl, Christmas (?)\n",
    "\n",
    "This seems like it could possibly be Country music, talking about boys and girls in towns. The inclusion of Christmas seems odd here, but maybe our corpus contains multiple holiday related songs."
   ]
  },
  {
   "cell_type": "markdown",
   "metadata": {},
   "source": [
    "Topic 3: Explitives, Rock, Dance, Chorus, Money\n",
    "\n",
    "This seems like the hip-hop cluster. Although, it is interesting to find the word \"rock\" and \"chorus\". Interesting to see \"I'm\" as one of the main words (also shown in the first topic). In these two topics, do the artists choose to focus on themselves?"
   ]
  },
  {
   "cell_type": "markdown",
   "metadata": {},
   "source": [
    "Topic 4: Weather, God, Dreams\n",
    "\n",
    "This topic seems whimsical and daydreamy, interweaving life and the world in a calming manner. This could be a hippie topic, maybe influenced by older musicians. Weather and life are major themes in music, and this topic seems to encompass this."
   ]
  },
  {
   "cell_type": "markdown",
   "metadata": {},
   "source": [
    "Topic 5: Hell, Burn, God, Die, Blood\n",
    "\n",
    "This topic is very gory, possibly associated with goth, metal-rock music. Very stark contrast against topic 4."
   ]
  },
  {
   "cell_type": "markdown",
   "metadata": {},
   "source": [
    "All in all, each topic is pretty distinguishable and revolve around solid themes that are often seen in song lyrics."
   ]
  },
  {
   "cell_type": "markdown",
   "metadata": {},
   "source": [
    "### Second try: 10 topics and 1000 iterations"
   ]
  },
  {
   "cell_type": "code",
   "execution_count": null,
   "metadata": {},
   "outputs": [],
   "source": [
    "# Training a MALLET analysis with an increased number of topics\n",
    "train-topics --input project-mallet.mallet --num-topics 10 --num-iterations 1000 \\\n",
    "--output-doc-topics project-mallet-ten-top-doc-topics.txt \\\n",
    "--output-topic-keys project-mallet-ten-top-topic-keys.txt \\\n",
    "--word-topic-counts-file project-mallet-ten-top-word-topic-counts-file.txt \\\n",
    "--topic-word-weights-file project-mallet-ten-top-topic-word-weights-file.txt \\\n",
    "--xml-topic-report project-mallet-ten-top-topic-report.xml \\\n",
    "--xml-topic-phrase-report project-malletten-top--topic-phrase-report.xml \\\n",
    "--show-topics-interval 10 \\\n",
    "--use-symmetric-alpha false  \\\n",
    "--optimize-interval 100 \\\n",
    "--diagnostics-file project-mallet-ten-top-diagnostics.xml"
   ]
  },
  {
   "cell_type": "markdown",
   "metadata": {},
   "source": [
    "### Results"
   ]
  },
  {
   "cell_type": "markdown",
   "metadata": {},
   "source": [
    "0\t0.15045\tgod lord jesus sing heaven world soul life man born free king people chorus peace glory holy he's children earth \n",
    "\n",
    "1\t0.42227\tnight light sun day sky eyes rain time hear wind blue moon dream fly there's home world it's sea high \n",
    "\n",
    "2\t0.27399\tbaby yeah i'm gonna hey wanna girl don't make ain't ooh you're gotta good tonight it's night dance let's rock \n",
    "\n",
    "3\t0.03075\tchristmas santa dem year tree ring merry rhythm yuh bow happy bum cha les vocals music ding bells che claus \n",
    "\n",
    "4\t0.50516\tlove heart i'll life you're give hold time it's make eyes feel i'm i've true i'd can't chorus mine day \n",
    "\n",
    "5\t0.10735\ti'm ain't shit fuck nigga don't money back bitch niggas that's it's chorus hit ass make man yeah put y'all \n",
    "\n",
    "6\t0.3373\tman she's he's big back home town boy good boys girl girls ain't money that's city day made night house \n",
    "\n",
    "7\t0.32078\tdead die fire we're blood head hell it's world death burn life black war kill fight pain face eyes hate \n",
    "\n",
    "8\t0.06995\tang bang mary john doctor jane lee billy chorus lang row kung yang kong dumb ako man jean dah ikaw \n",
    "\n",
    "9\t0.62393\ti'm don't it's can't you're time i've back won't make i'll gonna there's feel mind things life that's find you've "
   ]
  },
  {
   "cell_type": "markdown",
   "metadata": {},
   "source": [
    "Topic 1: GOSPEL CLUSTER: God, Lord, Heaven, Chorus, Jesus."
   ]
  },
  {
   "cell_type": "markdown",
   "metadata": {},
   "source": [
    "Topic 2: WEATHER CLUSTER; Night, sun, rain, wind, moon, blue sky"
   ]
  },
  {
   "cell_type": "markdown",
   "metadata": {},
   "source": [
    "Topic 3: R&B CLUSTER: Baby, girl, tonight, dance, rock, ooh, yeah"
   ]
  },
  {
   "cell_type": "markdown",
   "metadata": {},
   "source": [
    "Topic 4: CHRISTMAS CLUSTER: Santa, Christmas, merry, tree, bells"
   ]
  },
  {
   "cell_type": "markdown",
   "metadata": {},
   "source": [
    "Topic 5: LOVE CLUSTER: Love, heart, eyes, feel, chorus, mine, life."
   ]
  },
  {
   "cell_type": "markdown",
   "metadata": {},
   "source": [
    "Topic 6: HIP HOP CLUSTER: Explitives. Chorus. I'm"
   ]
  },
  {
   "cell_type": "markdown",
   "metadata": {},
   "source": [
    "Topic 7: LESS EXPLITIVE HIP HOP CLUSTER: Big, Town, Money, Girls, Night, Man (possibly country)"
   ]
  },
  {
   "cell_type": "markdown",
   "metadata": {},
   "source": [
    "Topic 8: GORY CLUSTER: Die, Blood, hell, death, burn, black, pain, hate"
   ]
  },
  {
   "cell_type": "markdown",
   "metadata": {},
   "source": [
    "Topic 9: NO IDEA CLUSTER: gibberish\n",
    "This could be a result of the fact that some of the artists in our corpus create non-English music, meaning that their lyrics contain words from languages (Spanish) that are different from English."
   ]
  },
  {
   "cell_type": "markdown",
   "metadata": {},
   "source": [
    "Topic 10: EMOTION/REGRET CLUSTER: can't, time, feel, mind, life, find"
   ]
  },
  {
   "cell_type": "markdown",
   "metadata": {},
   "source": [
    "Both MALLET models highlighted similar topics. We felt that increasing the number of topics to 10 allowed us to get a wider breadth of topics, as there are likely many different genres of artists within our corpus. Although it seems that most of the topic clusters in our first analysis were present in the second analysis (Love, Weather, Gory), the second analysis did a better job illustrating the nuances of many of the major themes in music. For example, I found it interesting that MALLET split topics 6 and 7. Both of these topic clusters seem to be focused around Hip-Hop lyrics, but topic 6 is much more explitive while topic 7 focused on other important themes in Hip-Hop, specifically money, houses, and girls. Overall, the MALLET analysis provides us a good starting point for our similarity analysis, and allows us to more fully understand the major themes of lyrical content within our corpus."
   ]
  },
  {
   "cell_type": "markdown",
   "metadata": {},
   "source": [
    "It was also cool to compare the song lyrics of certain songs and see which topic they mostly embody. For example, ABBA's song \"Givin' a little bit more\" embodies topic 1 of the first MALLET analysis with a topic 1 score of 0.967, meaning that this song focused on themes such as Love and Life. Comparing the same song to the second MALLET analysis, the song was labeled to have a topic 3 score of 0.509 and a topic 10 score of 0.403, both topics having themes around girls and emotion, similar to topic 1 in the first analysis. It was interesting to compare which topics different songs were attributed to over both analyses."
   ]
  },
  {
   "cell_type": "code",
   "execution_count": null,
   "metadata": {},
   "outputs": [],
   "source": []
  }
 ],
 "metadata": {
  "kernelspec": {
   "display_name": "Python 3",
   "language": "python",
   "name": "python3"
  },
  "language_info": {
   "codemirror_mode": {
    "name": "ipython",
    "version": 3
   },
   "file_extension": ".py",
   "mimetype": "text/x-python",
   "name": "python",
   "nbconvert_exporter": "python",
   "pygments_lexer": "ipython3",
   "version": "3.7.1"
  }
 },
 "nbformat": 4,
 "nbformat_minor": 2
}
